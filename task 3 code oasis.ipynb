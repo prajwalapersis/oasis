{
 "cells": [
  {
   "cell_type": "code",
   "execution_count": 1,
   "id": "0b574ca9",
   "metadata": {},
   "outputs": [
    {
     "name": "stdout",
     "output_type": "stream",
     "text": [
      "A randomly selected password is: UnFT)EnfIF\n"
     ]
    }
   ],
   "source": [
    "import random\n",
    "\n",
    "# A function that will generate a password of length (n) and return it.\n",
    "def generatePassword(n):\n",
    "    # Defining the list of choices of characters.\n",
    "    characters = \"abcdefghijklmnopqrstuvwxyzABCDEFGHIJKLMNOPQRSTUVWXYZ123456789!@#$%^&*()\"\n",
    "\n",
    "    # Initializing an empty string to store the password.\n",
    "    password = \"\"\n",
    "\n",
    "    for i in range(n):\n",
    "        # Randomly selecting one character and appending it to the resultant password string.\n",
    "        password += random.choice(characters)\n",
    "\n",
    "    # Finally returning the randomly generated password.\n",
    "    return password\n",
    "\n",
    "if __name__ == \"__main__\":\n",
    "    n = 10\n",
    "    password = generatePassword(n)\n",
    "    print(\"A randomly selected password is:\", password)"
   ]
  },
  {
   "cell_type": "code",
   "execution_count": null,
   "id": "3ea40e44",
   "metadata": {},
   "outputs": [],
   "source": []
  }
 ],
 "metadata": {
  "kernelspec": {
   "display_name": "Python 3 (ipykernel)",
   "language": "python",
   "name": "python3"
  },
  "language_info": {
   "codemirror_mode": {
    "name": "ipython",
    "version": 3
   },
   "file_extension": ".py",
   "mimetype": "text/x-python",
   "name": "python",
   "nbconvert_exporter": "python",
   "pygments_lexer": "ipython3",
   "version": "3.9.7"
  }
 },
 "nbformat": 4,
 "nbformat_minor": 5
}
