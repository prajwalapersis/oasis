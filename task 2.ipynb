{
 "cells": [
  {
   "cell_type": "code",
   "execution_count": 1,
   "id": "46fc930e",
   "metadata": {},
   "outputs": [
    {
     "name": "stdout",
     "output_type": "stream",
     "text": [
      "Enter your height in meters: 1.86\n",
      "Enter your weight in kg: 35\n",
      "BMI calculated is:  10.12\n",
      "You are very underweight\n"
     ]
    }
   ],
   "source": [
    "try:\n",
    "    h = float(input(\"Enter your height in meters: \"))\n",
    "    w = float(input(\"Enter your weight in kg: \"))\n",
    "except ValueError:\n",
    "    print(\"Please enter valid numerical values for height and weight.\")\n",
    "    exit()\n",
    "\n",
    "BMI = w / (h * h)\n",
    "formatted_bmi = \"{:.2f}\".format(BMI)  # Display BMI with 2 decimal places\n",
    "\n",
    "print(\"BMI calculated is: \", formatted_bmi)\n",
    "\n",
    "if BMI > 0:\n",
    "    if BMI <= 16:\n",
    "        print(\"You are very underweight\")\n",
    "    elif BMI <= 18.5:\n",
    "        print(\"You are underweight\")\n",
    "    elif BMI <= 25:\n",
    "        print(\"You are normal\")\n",
    "    elif BMI <= 30:\n",
    "        print(\"You are overweight\")\n",
    "    else:\n",
    "        print(\"You are very overweight\")\n",
    "else:\n",
    "    print(\"Enter valid details\")\n",
    "\n"
   ]
  },
  {
   "cell_type": "code",
   "execution_count": null,
   "id": "2b6b186d",
   "metadata": {},
   "outputs": [],
   "source": []
  }
 ],
 "metadata": {
  "kernelspec": {
   "display_name": "Python 3 (ipykernel)",
   "language": "python",
   "name": "python3"
  },
  "language_info": {
   "codemirror_mode": {
    "name": "ipython",
    "version": 3
   },
   "file_extension": ".py",
   "mimetype": "text/x-python",
   "name": "python",
   "nbconvert_exporter": "python",
   "pygments_lexer": "ipython3",
   "version": "3.9.7"
  }
 },
 "nbformat": 4,
 "nbformat_minor": 5
}
